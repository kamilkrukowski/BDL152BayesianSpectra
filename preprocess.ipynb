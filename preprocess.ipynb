{
 "cells": [
  {
   "cell_type": "markdown",
   "metadata": {},
   "source": [
    "# Load Modules"
   ]
  },
  {
   "cell_type": "code",
   "execution_count": 18,
   "metadata": {},
   "outputs": [],
   "source": [
    "import json\n",
    "import pickle\n",
    "import numpy as np\n",
    "import matplotlib.pyplot as plt"
   ]
  },
  {
   "cell_type": "code",
   "execution_count": 2,
   "metadata": {},
   "outputs": [],
   "source": [
    "from utils import process_msms, bin_msms, generate_fingerprint"
   ]
  },
  {
   "cell_type": "markdown",
   "metadata": {},
   "source": [
    "# Load Data"
   ]
  },
  {
   "cell_type": "code",
   "execution_count": 3,
   "metadata": {},
   "outputs": [
    {
     "name": "stdout",
     "output_type": "stream",
     "text": [
      "Total number of spectra:  145379\n"
     ]
    }
   ],
   "source": [
    "f = open('data/MoNA-export-LC-MS-MS_Spectra.json')\n",
    "\n",
    "data = json.load(f)\n",
    "\n",
    "f.close()\n",
    "print(\"Total number of spectra: \", len(data))"
   ]
  },
  {
   "cell_type": "markdown",
   "metadata": {},
   "source": [
    "# Process Data"
   ]
  },
  {
   "cell_type": "code",
   "execution_count": 5,
   "metadata": {},
   "outputs": [
    {
     "name": "stdout",
     "output_type": "stream",
     "text": [
      "0\n",
      "2500\n",
      "5000\n",
      "7500\n",
      "10000\n",
      "12500\n",
      "15000\n",
      "17500\n",
      "20000\n",
      "22500\n",
      "25000\n"
     ]
    },
    {
     "name": "stderr",
     "output_type": "stream",
     "text": [
      "[09:40:53] SMILES Parse Error: unclosed ring for input: 'OC1=CC(C(OC)=O)=C(OC2=CC(C)=CC(O)=C2C(O)=O)C(OC)=C2'\n",
      "[09:40:53] SMILES Parse Error: unclosed ring for input: 'O=C1C2=C(C=C(C)C=C2O)OC3=CC(O)=CC(C(OC)=O)=C32'\n",
      "[09:40:54] SMILES Parse Error: unclosed ring for input: 'O=C([C@H](CC)C)O[C@H]1CCC=C2C1[C@@H](CC[C@@H](O)C[C@@H](O)CC(OC)=O)[C@@H](C)C=C3'\n",
      "[09:40:54] SMILES Parse Error: unclosed ring for input: 'O=C(N[C@@H](CCCCCC(CC)=O)C(N[C@@H](CC1=CN(OC)C2=C1C=CC=C2)C3=O)=O)[C@@H]4N(C([C@H]([C@H](CC)C)N3)=O)CCCC5'\n",
      "[09:40:54] SMILES Parse Error: unclosed ring for input: 'O=C(N(C(C=CC=C1)=C1C(N(C)[C@@]2([H])CC3=CC=CC=C3)=O)C2=N4)C5=C4C=CC=C6'\n",
      "[09:40:54] SMILES Parse Error: unclosed ring for input: 'OC1=CC=C(CC(C(NC(C(CC)C)C(OC(C(CCCCCCCCCC)C)CC(NC(C(NC(C(NC(C(NC2CCC(N)=O)=O)C)=O)C)=O)C(O)C)=O)=O)=O)NC2=O)C=C2'\n"
     ]
    },
    {
     "name": "stdout",
     "output_type": "stream",
     "text": [
      "27500\n"
     ]
    },
    {
     "name": "stderr",
     "output_type": "stream",
     "text": [
      "[09:41:00] SMILES Parse Error: syntax error while parsing: InChI=1S/C15H10O3/c16-11-6-7-12-13(17)9-14(18-15(12)8-11)10-4-2-1-3-5-10/h1-9,16H\n",
      "[09:41:00] SMILES Parse Error: Failed parsing SMILES 'InChI=1S/C15H10O3/c16-11-6-7-12-13(17)9-14(18-15(12)8-11)10-4-2-1-3-5-10/h1-9,16H' for input: 'InChI=1S/C15H10O3/c16-11-6-7-12-13(17)9-14(18-15(12)8-11)10-4-2-1-3-5-10/h1-9,16H'\n",
      "[09:41:00] SMILES Parse Error: syntax error while parsing: InChI=1S/C16H12O5/c1-20-11-4-2-9(3-5-11)12-8-21-14-7-10(17)6-13(18)15(14)16(12)19/h2-8,17-18H,1H3\n",
      "[09:41:00] SMILES Parse Error: Failed parsing SMILES 'InChI=1S/C16H12O5/c1-20-11-4-2-9(3-5-11)12-8-21-14-7-10(17)6-13(18)15(14)16(12)19/h2-8,17-18H,1H3' for input: 'InChI=1S/C16H12O5/c1-20-11-4-2-9(3-5-11)12-8-21-14-7-10(17)6-13(18)15(14)16(12)19/h2-8,17-18H,1H3'\n",
      "[09:41:00] SMILES Parse Error: syntax error while parsing: InChI=1S/C16H12O5/c1-20-11-4-2-9(3-5-11)12-8-21-14-7-10(17)6-13(18)15(14)16(12)19/h2-8,17-18H,1H3\n",
      "[09:41:00] SMILES Parse Error: Failed parsing SMILES 'InChI=1S/C16H12O5/c1-20-11-4-2-9(3-5-11)12-8-21-14-7-10(17)6-13(18)15(14)16(12)19/h2-8,17-18H,1H3' for input: 'InChI=1S/C16H12O5/c1-20-11-4-2-9(3-5-11)12-8-21-14-7-10(17)6-13(18)15(14)16(12)19/h2-8,17-18H,1H3'\n",
      "[09:41:00] SMILES Parse Error: syntax error while parsing: InChI=1S/C16H12O5/c1-20-11-4-2-9(3-5-11)12-8-21-14-7-10(17)6-13(18)15(14)16(12)19/h2-8,17-18H,1H3\n",
      "[09:41:00] SMILES Parse Error: Failed parsing SMILES 'InChI=1S/C16H12O5/c1-20-11-4-2-9(3-5-11)12-8-21-14-7-10(17)6-13(18)15(14)16(12)19/h2-8,17-18H,1H3' for input: 'InChI=1S/C16H12O5/c1-20-11-4-2-9(3-5-11)12-8-21-14-7-10(17)6-13(18)15(14)16(12)19/h2-8,17-18H,1H3'\n",
      "[09:41:00] SMILES Parse Error: syntax error while parsing: InChI=1S/C16H12O5/c1-20-11-4-2-9(3-5-11)12-8-21-14-7-10(17)6-13(18)15(14)16(12)19/h2-8,17-18H,1H3\n",
      "[09:41:00] SMILES Parse Error: Failed parsing SMILES 'InChI=1S/C16H12O5/c1-20-11-4-2-9(3-5-11)12-8-21-14-7-10(17)6-13(18)15(14)16(12)19/h2-8,17-18H,1H3' for input: 'InChI=1S/C16H12O5/c1-20-11-4-2-9(3-5-11)12-8-21-14-7-10(17)6-13(18)15(14)16(12)19/h2-8,17-18H,1H3'\n"
     ]
    },
    {
     "name": "stdout",
     "output_type": "stream",
     "text": [
      "30000\n",
      "32500\n",
      "35000\n"
     ]
    },
    {
     "name": "stderr",
     "output_type": "stream",
     "text": [
      "[09:41:16] Explicit valence for atom # 19 N, 5, is greater than permitted\n",
      "[09:41:21] SMILES Parse Error: syntax error while parsing: n/a\n",
      "[09:41:21] SMILES Parse Error: Failed parsing SMILES 'n/a' for input: 'n/a'\n",
      "[09:41:22] SMILES Parse Error: syntax error while parsing: n/a\n",
      "[09:41:22] SMILES Parse Error: Failed parsing SMILES 'n/a' for input: 'n/a'\n",
      "[09:41:22] Explicit valence for atom # 22 O, 3, is greater than permitted\n"
     ]
    },
    {
     "name": "stdout",
     "output_type": "stream",
     "text": [
      "37500\n"
     ]
    },
    {
     "name": "stderr",
     "output_type": "stream",
     "text": [
      "[09:41:22] Explicit valence for atom # 35 O, 3, is greater than permitted\n",
      "[09:41:23] SMILES Parse Error: syntax error while parsing: n/a\n",
      "[09:41:23] SMILES Parse Error: Failed parsing SMILES 'n/a' for input: 'n/a'\n",
      "[09:41:23] SMILES Parse Error: syntax error while parsing: n/a\n",
      "[09:41:23] SMILES Parse Error: Failed parsing SMILES 'n/a' for input: 'n/a'\n",
      "[09:41:24] Explicit valence for atom # 4 O, 3, is greater than permitted\n",
      "[09:41:24] Explicit valence for atom # 7 O, 3, is greater than permitted\n",
      "[09:41:24] SMILES Parse Error: syntax error while parsing: n/a\n",
      "[09:41:24] SMILES Parse Error: Failed parsing SMILES 'n/a' for input: 'n/a'\n",
      "[09:41:24] SMILES Parse Error: syntax error while parsing: n/a\n",
      "[09:41:24] SMILES Parse Error: Failed parsing SMILES 'n/a' for input: 'n/a'\n",
      "[09:41:25] SMILES Parse Error: syntax error while parsing: n/a\n",
      "[09:41:25] SMILES Parse Error: Failed parsing SMILES 'n/a' for input: 'n/a'\n",
      "[09:41:25] SMILES Parse Error: syntax error while parsing: n/a\n",
      "[09:41:25] SMILES Parse Error: Failed parsing SMILES 'n/a' for input: 'n/a'\n",
      "[09:41:26] SMILES Parse Error: syntax error while parsing: n/a\n",
      "[09:41:26] SMILES Parse Error: Failed parsing SMILES 'n/a' for input: 'n/a'\n",
      "[09:41:26] SMILES Parse Error: syntax error while parsing: n/a\n",
      "[09:41:26] SMILES Parse Error: Failed parsing SMILES 'n/a' for input: 'n/a'\n",
      "[09:41:26] Explicit valence for atom # 2 O, 3, is greater than permitted\n",
      "[09:41:27] SMILES Parse Error: syntax error while parsing: n/a\n",
      "[09:41:27] SMILES Parse Error: Failed parsing SMILES 'n/a' for input: 'n/a'\n",
      "[09:41:27] SMILES Parse Error: syntax error while parsing: n/a\n",
      "[09:41:27] SMILES Parse Error: Failed parsing SMILES 'n/a' for input: 'n/a'\n"
     ]
    },
    {
     "name": "stdout",
     "output_type": "stream",
     "text": [
      "40000\n"
     ]
    },
    {
     "name": "stderr",
     "output_type": "stream",
     "text": [
      "[09:41:27] Explicit valence for atom # 35 O, 3, is greater than permitted\n",
      "[09:41:27] SMILES Parse Error: syntax error while parsing: n/a\n",
      "[09:41:27] SMILES Parse Error: Failed parsing SMILES 'n/a' for input: 'n/a'\n",
      "[09:41:27] SMILES Parse Error: syntax error while parsing: n/a\n",
      "[09:41:27] SMILES Parse Error: Failed parsing SMILES 'n/a' for input: 'n/a'\n",
      "[09:41:28] SMILES Parse Error: syntax error while parsing: n/a\n",
      "[09:41:28] SMILES Parse Error: Failed parsing SMILES 'n/a' for input: 'n/a'\n",
      "[09:41:28] SMILES Parse Error: syntax error while parsing: n/a\n",
      "[09:41:28] SMILES Parse Error: Failed parsing SMILES 'n/a' for input: 'n/a'\n",
      "[09:41:28] SMILES Parse Error: syntax error while parsing: n/a\n",
      "[09:41:28] SMILES Parse Error: Failed parsing SMILES 'n/a' for input: 'n/a'\n",
      "[09:41:28] SMILES Parse Error: syntax error while parsing: n/a\n",
      "[09:41:28] SMILES Parse Error: Failed parsing SMILES 'n/a' for input: 'n/a'\n",
      "[09:41:29] Explicit valence for atom # 35 O, 3, is greater than permitted\n",
      "[09:41:29] Explicit valence for atom # 35 O, 3, is greater than permitted\n"
     ]
    },
    {
     "name": "stdout",
     "output_type": "stream",
     "text": [
      "42500\n",
      "45000\n",
      "47500\n",
      "50000\n",
      "52500\n",
      "55000\n",
      "57500\n",
      "60000\n",
      "62500\n",
      "65000\n",
      "67500\n",
      "70000\n",
      "72500\n",
      "75000\n",
      "77500\n",
      "80000\n",
      "82500\n",
      "85000\n"
     ]
    },
    {
     "name": "stderr",
     "output_type": "stream",
     "text": [
      "[09:48:13] SMILES Parse Error: syntax error while parsing: InChI=1S/C16H21NO2/c1-2-3-4-5-6-11-14-16(19)15(18)12-9-7-8-10-13(12)17-14/h7-10,19H,2-6,11H2,1H3,(H,17,18)\n",
      "[09:48:13] SMILES Parse Error: Failed parsing SMILES 'InChI=1S/C16H21NO2/c1-2-3-4-5-6-11-14-16(19)15(18)12-9-7-8-10-13(12)17-14/h7-10,19H,2-6,11H2,1H3,(H,17,18)' for input: 'InChI=1S/C16H21NO2/c1-2-3-4-5-6-11-14-16(19)15(18)12-9-7-8-10-13(12)17-14/h7-10,19H,2-6,11H2,1H3,(H,17,18)'\n",
      "[09:48:13] SMILES Parse Error: syntax error while parsing: NA\n",
      "[09:48:13] SMILES Parse Error: Failed parsing SMILES 'NA' for input: 'NA'\n"
     ]
    },
    {
     "name": "stdout",
     "output_type": "stream",
     "text": [
      "87500\n",
      "90000\n",
      "92500\n",
      "95000\n",
      "97500\n"
     ]
    },
    {
     "name": "stderr",
     "output_type": "stream",
     "text": [
      "[09:49:21] SMILES Parse Error: syntax error while parsing: CC1(C)[C@H](OC(C)=O)[C@H](O)C[C@]([C@@]1([H])CC[C@H]2C)(C)[C@]32CC4=C(O)C=C(CO)C(C=O)=C4O3&gt;&gt;\n",
      "[09:49:21] SMILES Parse Error: Failed parsing SMILES 'CC1(C)[C@H](OC(C)=O)[C@H](O)C[C@]([C@@]1([H])CC[C@H]2C)(C)[C@]32CC4=C(O)C=C(CO)C(C=O)=C4O3&gt;&gt;' for input: 'CC1(C)[C@H](OC(C)=O)[C@H](O)C[C@]([C@@]1([H])CC[C@H]2C)(C)[C@]32CC4=C(O)C=C(CO)C(C=O)=C4O3&gt;&gt;'\n",
      "[09:49:21] Explicit valence for atom # 19 N, 4, is greater than permitted\n"
     ]
    },
    {
     "name": "stdout",
     "output_type": "stream",
     "text": [
      "100000\n"
     ]
    },
    {
     "name": "stderr",
     "output_type": "stream",
     "text": [
      "[09:49:24] SMILES Parse Error: syntax error while parsing: (CC(=O)O3)O)C\n",
      "[09:49:24] SMILES Parse Error: Failed parsing SMILES '(CC(=O)O3)O)C' for input: '(CC(=O)O3)O)C'\n",
      "[09:49:24] Explicit valence for atom # 17 N, 4, is greater than permitted\n"
     ]
    },
    {
     "name": "stdout",
     "output_type": "stream",
     "text": [
      "102500\n",
      "105000\n",
      "107500\n",
      "110000\n",
      "112500\n",
      "115000\n",
      "117500\n",
      "120000\n"
     ]
    },
    {
     "name": "stderr",
     "output_type": "stream",
     "text": [
      "[09:50:59] SMILES Parse Error: syntax error while parsing: CC1(C)[C@H](OC(C)=O)CC[C@]([C@@]1([H])CC[C@H]2C)(C)[C@]32CC4=C(O)C=C(CO)C(C=O)=C4O3&gt;&gt;\n",
      "[09:50:59] SMILES Parse Error: Failed parsing SMILES 'CC1(C)[C@H](OC(C)=O)CC[C@]([C@@]1([H])CC[C@H]2C)(C)[C@]32CC4=C(O)C=C(CO)C(C=O)=C4O3&gt;&gt;' for input: 'CC1(C)[C@H](OC(C)=O)CC[C@]([C@@]1([H])CC[C@H]2C)(C)[C@]32CC4=C(O)C=C(CO)C(C=O)=C4O3&gt;&gt;'\n",
      "[09:51:00] SMILES Parse Error: syntax error while parsing: CC1(C)[C@H](OC(C)=O)[C@H](O)C[C@]([C@@]1([H])CC[C@H]2C)(C)[C@]32CC4=C(O)C=C(CO)C(C=O)=C4O3&gt;&gt;\n",
      "[09:51:00] SMILES Parse Error: Failed parsing SMILES 'CC1(C)[C@H](OC(C)=O)[C@H](O)C[C@]([C@@]1([H])CC[C@H]2C)(C)[C@]32CC4=C(O)C=C(CO)C(C=O)=C4O3&gt;&gt;' for input: 'CC1(C)[C@H](OC(C)=O)[C@H](O)C[C@]([C@@]1([H])CC[C@H]2C)(C)[C@]32CC4=C(O)C=C(CO)C(C=O)=C4O3&gt;&gt;'\n"
     ]
    },
    {
     "name": "stdout",
     "output_type": "stream",
     "text": [
      "122500\n"
     ]
    },
    {
     "name": "stderr",
     "output_type": "stream",
     "text": [
      "[09:51:08] SMILES Parse Error: syntax error while parsing: CC1(C)[C@H](O)CC[C@]([C@@]1([H])CC[C@H]2C)(C)[C@]32CC4=C(O)C=C(C=O)C(C=O)=C4O3&gt;&gt;\n",
      "[09:51:08] SMILES Parse Error: Failed parsing SMILES 'CC1(C)[C@H](O)CC[C@]([C@@]1([H])CC[C@H]2C)(C)[C@]32CC4=C(O)C=C(C=O)C(C=O)=C4O3&gt;&gt;' for input: 'CC1(C)[C@H](O)CC[C@]([C@@]1([H])CC[C@H]2C)(C)[C@]32CC4=C(O)C=C(C=O)C(C=O)=C4O3&gt;&gt;'\n"
     ]
    },
    {
     "name": "stdout",
     "output_type": "stream",
     "text": [
      "125000\n",
      "127500\n",
      "130000\n",
      "132500\n",
      "135000\n"
     ]
    },
    {
     "name": "stderr",
     "output_type": "stream",
     "text": [
      "[09:51:54] Explicit valence for atom # 11 N, 4, is greater than permitted\n",
      "[09:51:54] Explicit valence for atom # 6 N, 4, is greater than permitted\n",
      "[09:51:54] Explicit valence for atom # 8 N, 4, is greater than permitted\n"
     ]
    },
    {
     "name": "stdout",
     "output_type": "stream",
     "text": [
      "137500\n",
      "140000\n",
      "142500\n",
      "145000\n",
      "Number of msms and fps processed:  134586\n",
      "Number of failed instances:  50\n"
     ]
    }
   ],
   "source": [
    "all_msms = []\n",
    "all_fps = []\n",
    "failed_fps = []\n",
    "\n",
    "for i, x in enumerate(data):\n",
    "\n",
    "    if i%2500 == 0:\n",
    "        print(i)\n",
    "\n",
    "    msms = x['spectrum']\n",
    "    mz_array, intensity_array = process_msms(msms)\n",
    "\n",
    "    # skip msms with mz > 1000\n",
    "    if max(mz_array) > 1000: \n",
    "        continue\n",
    "\n",
    "    msms_vec = bin_msms(mz_array, intensity_array)\n",
    "\n",
    "    try:\n",
    "        for mD in x['compound'][0]['metaData']:\n",
    "            if mD['name'] == 'SMILES':\n",
    "                smiles = mD['value']\n",
    "                break\n",
    "        fp = generate_fingerprint(smiles)\n",
    "    except:\n",
    "        failed_fps.append(i)\n",
    "        continue\n",
    "\n",
    "    all_msms.append(msms_vec)\n",
    "    all_fps.append(fp)\n",
    "\n",
    "print(\"Number of msms and fps processed: \", len(all_fps))\n",
    "print(\"Number of failed instances: \", len(failed_fps))"
   ]
  },
  {
   "cell_type": "code",
   "execution_count": 9,
   "metadata": {},
   "outputs": [],
   "source": [
    "with open(\"data/msms.pkl\", 'wb') as f:\n",
    "    pickle.dump(all_msms, f)\n",
    "with open(\"data/fps_maccs.pkl\", 'wb') as f:\n",
    "    pickle.dump(all_fps, f)"
   ]
  },
  {
   "cell_type": "markdown",
   "metadata": {},
   "source": [
    "# Evaluate distribution"
   ]
  },
  {
   "cell_type": "code",
   "execution_count": 12,
   "metadata": {},
   "outputs": [],
   "source": [
    "all_fps = np.array(all_fps)"
   ]
  },
  {
   "cell_type": "code",
   "execution_count": 22,
   "metadata": {},
   "outputs": [
    {
     "data": {
      "text/plain": [
       "(0.0, 167.0)"
      ]
     },
     "execution_count": 22,
     "metadata": {},
     "output_type": "execute_result"
    },
    {
     "data": {
      "image/png": "[encoded data removed]",
      "text/plain": [
       "<Figure size 640x480 with 1 Axes>"
      ]
     },
     "metadata": {},
     "output_type": "display_data"
    }
   ],
   "source": [
    "plt.bar(np.arange(len(all_fps[0])), np.sum(all_fps, 0))\n",
    "plt.xlim([0, 167])"
   ]
  }
 ],
 "metadata": {
  "kernelspec": {
   "display_name": "Python 3.8.0 ('bdl_2022f_env')",
   "language": "python",
   "name": "python3"
  },
  "language_info": {
   "codemirror_mode": {
    "name": "ipython",
    "version": 3
   },
   "file_extension": ".py",
   "mimetype": "text/x-python",
   "name": "python",
   "nbconvert_exporter": "python",
   "pygments_lexer": "ipython3",
   "version": "3.8.0"
  },
  "orig_nbformat": 4,
  "vscode": {
   "interpreter": {
    "hash": "3cc20c359614de63e239081febfe3a9417e4fa40d6ee20b97f5d261c6f6745c2"
   }
  }
 },
 "nbformat": 4,
 "nbformat_minor": 2
}
